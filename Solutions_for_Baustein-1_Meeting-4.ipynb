{
 "cells": [
  {
   "cell_type": "markdown",
   "metadata": {},
   "source": [
    "### Solutions for Baustein 1 Meeting 4"
   ]
  },
  {
   "cell_type": "markdown",
   "metadata": {},
   "source": [
    "There **is** more then one way to solve the quests. Here you will find only one example for each exercise."
   ]
  },
  {
   "cell_type": "markdown",
   "metadata": {},
   "source": [
    "## Exercise 2.1: common letters"
   ]
  },
  {
   "cell_type": "code",
   "execution_count": null,
   "metadata": {},
   "outputs": [],
   "source": [
    "def common_letters (text_1, text_2):\n",
    "\n",
    "    text1 = set(text_1)\n",
    "    text2 = set(text_2)\n",
    "   \n",
    "    print(text1 & text2)\n",
    "    return(text1 & text2)\n",
    "\n",
    "common_letters(text_1=\"encyclopedia\", text_2=\"avocado\")"
   ]
  },
  {
   "cell_type": "code",
   "execution_count": null,
   "metadata": {},
   "outputs": [],
   "source": [
    "def common_letters_in ():\n",
    "    T1 = input(\"Enter text no.1: \")\n",
    "    T2 = input(\"Enter text no.2: \")\n",
    "    common_letters (T1, T2)\n",
    "\n",
    "common_letters_in()"
   ]
  },
  {
   "cell_type": "markdown",
   "metadata": {},
   "source": [
    "## Exercise 3.2: Object-oriented bank account"
   ]
  },
  {
   "cell_type": "code",
   "execution_count": null,
   "metadata": {
    "scrolled": false
   },
   "outputs": [],
   "source": [
    "class Bank_Account:\n",
    "    def __init__(self, id):\n",
    "        self.id = id\n",
    "        self.current_balance = 0\n",
    "        \n",
    "    def balance_up(self): \n",
    "        up = int(input(\"How much would you like to deposit? \"))\n",
    "        self.current_balance = self.current_balance + up\n",
    "        \n",
    "    def balance_down(self):\n",
    "        down = int(input(\"How much would you like to withdrawal? \"))\n",
    "        self.current_balance = self.current_balance - down\n",
    "        \n",
    "    def describe(self):\n",
    "        print(\"Account number\", self.id, \"has current balance of\", str(self.current_balance), \"Euro.\")\n",
    "\n",
    "my_account = Bank_Account(\"06385527\")\n",
    "my_account.balance_up() \n",
    "my_account.balance_down()    \n",
    "my_account.describe()"
   ]
  },
  {
   "cell_type": "markdown",
   "metadata": {},
   "source": [
    "## Exercise 3.3: Object-oriented Pirates "
   ]
  },
  {
   "cell_type": "markdown",
   "metadata": {},
   "source": [
    "Here you will find the solution for a function that returns a <b>Boolean</b> value. It can be used in the program as a <b>decision</b> point (True or False).\n",
    "\n",
    "The class *Ship* can be seen as a template that tells the python interpreter how to construct an actual ship (which we then call instance of the class *Ship*) and what it can do. This is how the (abstract) class for a ship can look like."
   ]
  },
  {
   "cell_type": "code",
   "execution_count": null,
   "metadata": {},
   "outputs": [],
   "source": [
    "class Ship:\n",
    "    def __init__(self, draft, crew):\n",
    "        self.draft = draft\n",
    "        self.crew = crew\n",
    "        \n",
    "    def is_worth_it(self):\n",
    "        if(self.draft - 1.5*self.crew) >= 20:\n",
    "            return True\n",
    "        else:\n",
    "            return False"
   ]
  },
  {
   "cell_type": "markdown",
   "metadata": {},
   "source": [
    "Note that running the above cell does not produce any output. But is does something. Running it tells the python interpreter about your new self-defined class *Ship* so that we can use it to create an actual ship (a so-called *instance* of the class <code>Ship</code>). The function <code>is_worth_it()</code> is called a *member function* of the class <code>Ship</code>. The function <code>__init__</code> is a special member function and is called a *class constructor* or sometimes also *class initializer*. It is silently called once we construct a ship. Note that each member function **must** have as a first argument the special variable <code>self</code> (the reason needs a bit explanation so just swallow it for now). Now let us construct a ship. This is how we do it:"
   ]
  },
  {
   "cell_type": "code",
   "execution_count": null,
   "metadata": {},
   "outputs": [],
   "source": [
    "Titanic1 = Ship (15,10)"
   ]
  },
  {
   "cell_type": "markdown",
   "metadata": {},
   "source": [
    "Now we have an actual ship. After creation we can run any member function (here we only have one):"
   ]
  },
  {
   "cell_type": "code",
   "execution_count": null,
   "metadata": {},
   "outputs": [],
   "source": [
    "Titanic1.is_worth_it()"
   ]
  },
  {
   "cell_type": "markdown",
   "metadata": {},
   "source": [
    "And another one:"
   ]
  },
  {
   "cell_type": "code",
   "execution_count": null,
   "metadata": {},
   "outputs": [],
   "source": [
    "Titanic2 = Ship (50,10)\n",
    "Titanic2.is_worth_it()"
   ]
  }
 ],
 "metadata": {
  "kernelspec": {
   "display_name": "Python 3",
   "language": "python",
   "name": "python3"
  },
  "language_info": {
   "codemirror_mode": {
    "name": "ipython",
    "version": 3
   },
   "file_extension": ".py",
   "mimetype": "text/x-python",
   "name": "python",
   "nbconvert_exporter": "python",
   "pygments_lexer": "ipython3",
   "version": "3.7.4"
  }
 },
 "nbformat": 4,
 "nbformat_minor": 2
}
