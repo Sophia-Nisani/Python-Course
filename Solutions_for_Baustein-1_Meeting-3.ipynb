{
 "cells": [
  {
   "cell_type": "markdown",
   "metadata": {},
   "source": [
    "### Solutions for Baustein 1 Meeting 3"
   ]
  },
  {
   "cell_type": "markdown",
   "metadata": {},
   "source": [
    "There are more then one way to solve the quests. Here you will find only one example for each exercise."
   ]
  },
  {
   "cell_type": "markdown",
   "metadata": {},
   "source": [
    "## Exercise 2.3: Sorting and Negative Indexes"
   ]
  },
  {
   "cell_type": "code",
   "execution_count": null,
   "metadata": {},
   "outputs": [],
   "source": [
    "list1 = [1, 34, 8742, 45, 123456789, -6, 78]\n",
    " \n",
    "list1.sort()\n",
    "\n",
    "print(\"The largest number in the list is:\", list1[-1])\n",
    "print(\"The secound large number in the list is:\", list1[-2])"
   ]
  },
  {
   "cell_type": "markdown",
   "metadata": {},
   "source": [
    "## Exercise 2.5: Slicing"
   ]
  },
  {
   "cell_type": "code",
   "execution_count": null,
   "metadata": {},
   "outputs": [],
   "source": [
    "supermarket_gourmet = [\"Special Salami\", 8, \"Camamber\", 6.5, \"Pfifferling\", 11, \"Truffle\", 13.25, \"grand marnier liqueur\", 49.87]\n",
    "\n",
    "sum1 = sum(supermarket_gourmet[-1:0:-2])\n",
    "print(\"You need to pay\", sum1, \"Euro\")"
   ]
  },
  {
   "cell_type": "markdown",
   "metadata": {},
   "source": [
    "## Exercise 3.1+5.1: Hangman"
   ]
  },
  {
   "cell_type": "code",
   "execution_count": null,
   "metadata": {},
   "outputs": [],
   "source": [
    "def show_word (word, chars):\n",
    "    new = \"\"\n",
    "    for i in range (len(word)):\n",
    "        if word[i] in chars:\n",
    "            new += word[i]\n",
    "        else:\n",
    "            new += \"_\"\n",
    "    print(new)\n",
    "    return new\n",
    "\n",
    "def Hangman ():\n",
    "    advised = []\n",
    "    secret_word = \"schifffahrt\" \n",
    "    while True:\n",
    "        input_user = input(\"Please write a guess of a letter:\")\n",
    "        advised.append(input_user)\n",
    "        guessed_right = show_word(secret_word, advised)\n",
    "        if guessed_right == secret_word:\n",
    "            if len(advised) < 10:\n",
    "                print(\"Bravo! You made it in less than 10 steps, therefore you get a bonus!\")\n",
    "                break\n",
    "            else:\n",
    "                print(\"Bravo!\")\n",
    "                break\n",
    "        if len(advised) > 9:\n",
    "            print(\"Game Over!\")\n",
    "            break\n",
    "        \n",
    "Hangman ()"
   ]
  },
  {
   "cell_type": "markdown",
   "metadata": {},
   "source": [
    "## Exercise 5.2: dictionaries and user input"
   ]
  },
  {
   "cell_type": "code",
   "execution_count": null,
   "metadata": {},
   "outputs": [],
   "source": [
    "def dictionary ():\n",
    "    dictionary1 = {\"cat\": \"Katze\", \"platypus\": \"Schnabeltier\", \"rain\": \"Regen\"}\n",
    "    word = input(\"Please enter the word that you are searching for or quit if you wish to leave the dictionary:\")\n",
    "    while word != \"quit\":\n",
    "        if word in dictionary1:\n",
    "            print(\"The translation of\", word, \"to German is:\", dictionary1[word])\n",
    "        else:\n",
    "            print(\"We are sorry, but this word is not exist in the dictionary.\")\n",
    "        word = input(\"Please enter the word that you are searching for or quit if you wish to leave the dictionary:\")\n",
    "    print(\"Thank you for using our dictionary. We hope to see you back soon.\")\n",
    "    return\n",
    "\n",
    "dictionary ()"
   ]
  },
  {
   "cell_type": "markdown",
   "metadata": {},
   "source": [
    "## Exercise 6.1.1: Combat"
   ]
  },
  {
   "cell_type": "code",
   "execution_count": null,
   "metadata": {},
   "outputs": [],
   "source": [
    "\n",
    "def power ():\n",
    "\n",
    "    health = int(input(\"Enter power:\"))\n",
    "    damage = int(input(\"Enter damage:\"))\n",
    "    sum = health - damage\n",
    "    \n",
    "    if sum <= 0 :\n",
    "        print(\"Sorry, but you have no power: 0\")\n",
    "    else:\n",
    "        print(\"You have\", sum, \"units of power.\")\n",
    "        \n",
    "    return\n",
    "\n",
    "power ()"
   ]
  },
  {
   "cell_type": "markdown",
   "metadata": {},
   "source": [
    "You can find a shorter solution at meeting number 4 (try to find the differences between the versions)"
   ]
  },
  {
   "cell_type": "markdown",
   "metadata": {},
   "source": [
    "## Exercise 6.1.2: initials"
   ]
  },
  {
   "cell_type": "code",
   "execution_count": null,
   "metadata": {},
   "outputs": [],
   "source": [
    "def name_initials ():\n",
    "    \n",
    "    name = input(\"Enter a name:\")\n",
    "    \n",
    "    new_name = name.split(\" \")\n",
    "    \n",
    "    fn = new_name[0].upper()\n",
    "    ln = new_name[1].upper()\n",
    "    \n",
    "    initials = []\n",
    "    \n",
    "    initials.append(fn[0])\n",
    "    initials.append(\".\")\n",
    "    initials.append(ln[0])\n",
    "    \n",
    "    initials_str = ''.join(initials)\n",
    "    \n",
    "    print(\"The initials are:\", initials_str)\n",
    "    \n",
    "    return\n",
    "\n",
    "name_initials ()"
   ]
  },
  {
   "cell_type": "markdown",
   "metadata": {},
   "source": [
    "You can find a shorter solution at meeting number 4 (try to find the differences between the versions)"
   ]
  },
  {
   "cell_type": "markdown",
   "metadata": {},
   "source": [
    "## Exercise 6.1.3: Century"
   ]
  },
  {
   "cell_type": "code",
   "execution_count": null,
   "metadata": {},
   "outputs": [],
   "source": [
    "def century ():\n",
    "    \n",
    "        year = int(input(\"Enter a year:\"))\n",
    "    \n",
    "        cent = year//100 + 1\n",
    "        print(\"This is the\", cent, \"century.\")\n",
    "\n",
    "        return\n",
    "\n",
    "century ()"
   ]
  },
  {
   "cell_type": "markdown",
   "metadata": {},
   "source": [
    "You can find a shorter solution at meeting number 4 (try to find the differences between the versions)"
   ]
  },
  {
   "cell_type": "markdown",
   "metadata": {},
   "source": [
    "## Exercise 6.2: Number guessing game"
   ]
  },
  {
   "cell_type": "code",
   "execution_count": null,
   "metadata": {},
   "outputs": [],
   "source": [
    "def guessthenumber ():\n",
    "\n",
    "    snum = 53\n",
    "    gnum = int(input(\"Please guess a number:\\n\"))\n",
    "    while gnum != snum:\n",
    "        if gnum<snum:\n",
    "            gnum = int(input(\"Wrong! your number is too small. Please enter another guess:\\n\"))\n",
    "        elif gnum>snum:\n",
    "            gnum = int(input(\"Wrong! your number is too big. Please enter another guess:\\n\"))\n",
    "    print(\"Congratulations! You guessed it right!\\n\")\n",
    "    \n",
    "    return\n",
    "\n",
    "guessthenumber ()"
   ]
  },
  {
   "cell_type": "markdown",
   "metadata": {},
   "source": [
    "You can find another version of solution at meeting number 4 (try to find the differences between the versions)"
   ]
  }
 ],
 "metadata": {
  "kernelspec": {
   "display_name": "Python 3",
   "language": "python",
   "name": "python3"
  },
  "language_info": {
   "codemirror_mode": {
    "name": "ipython",
    "version": 3
   },
   "file_extension": ".py",
   "mimetype": "text/x-python",
   "name": "python",
   "nbconvert_exporter": "python",
   "pygments_lexer": "ipython3",
   "version": "3.7.4"
  }
 },
 "nbformat": 4,
 "nbformat_minor": 2
}
